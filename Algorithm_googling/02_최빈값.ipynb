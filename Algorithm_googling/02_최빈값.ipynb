{
 "cells": [
  {
   "cell_type": "markdown",
   "metadata": {},
   "source": [
    "# 최빈값 찾기 알고리즘"
   ]
  },
  {
   "cell_type": "markdown",
   "metadata": {},
   "source": [
    "##### 출처 : https://lovelydiary.tistory.com/292"
   ]
  },
  {
   "cell_type": "markdown",
   "metadata": {},
   "source": [
    "- 문제해결\n",
    "    - 1. 여러 점수들이 들어 있는 리스트를 만든다.\n",
    "    - 2. scores 리스트 내에 가장 많이 들어있는 점수가 최빈값이고, 이 값을 찾아야 한다.\n",
    "    - 3. scores 리스트에서 가장 큰 점수 +1만큼의 원소를 가진 리스트 indexes를 만든다.\n",
    "    - 4. for 반복문으로 scores 리스트 내의 점수들을 하니씩 indexes 리스트 내에 1씩 증가시켜 카운트 한다.\n",
    "        - scores의 scores[0]=90점 을 indexes의 indexes[90]=1로 카운트\n",
    "    - 5. scores 리스트 전체 점수들에 반복한다.\n",
    "    - 6. 새로운 for 반복문으로 indexes 리스트 내에 있는 원소들 중 최대값을 찾는다. \n",
    "    - 7. indexes[i]=최댓값일 경우, i=최빈 점수, indexes[i]는 빈도가 된다."
   ]
  },
  {
   "cell_type": "code",
   "execution_count": 2,
   "metadata": {},
   "outputs": [
    {
     "name": "stdout",
     "output_type": "stream",
     "text": [
      "최빈값: 100, 4번 검색되었음\n"
     ]
    }
   ],
   "source": [
    "scores = [90, 85, 100, 100, 70, 60, 90, 90, 85, 90]\n",
    "\n",
    "# scores 리스트 내의 원소 중 가장 큰 숫자 +1, 모든 원소들은 0으로 설정\n",
    "indexes = [0]*(100+1)   \n",
    "\n",
    "for i in range(0, len(scores)):\n",
    "    indexes[scores[i]]=indexes[scores[i]]+1\n",
    "\n",
    "import sys\n",
    "max = -sys.maxsize\n",
    "for i in range(len(indexes)):\n",
    "    if indexes[i] > max:\n",
    "        max=indexes[i] \n",
    "\n",
    "print(f\"최빈값: {i}, {max}번 검색되었음\")"
   ]
  },
  {
   "cell_type": "markdown",
   "metadata": {},
   "source": [
    "---"
   ]
  },
  {
   "cell_type": "markdown",
   "metadata": {},
   "source": [
    "##### 출처 : https://3dmpengines.tistory.com/1647"
   ]
  },
  {
   "cell_type": "markdown",
   "metadata": {},
   "source": [
    "- 최빈값 : 자료 중에서 가장 많이 출현한 값. 같은 일이 반복되는 도수\n",
    "    - 파이썬을 이용하여 최빈값(mode)를 구하기 위해서는 collections 모듈의 Counter 클래스 사용\n",
    "        - Counter : dict 클래스의 하위 클래스로 리스트나 튜플에서 각 데이터가 등장한 횟수를 사전 형식으로 돌려준다"
   ]
  },
  {
   "cell_type": "code",
   "execution_count": 6,
   "metadata": {},
   "outputs": [
    {
     "data": {
      "text/plain": [
       "Counter({'red': 2, 'blue': 3, 'green': 1})"
      ]
     },
     "execution_count": 6,
     "metadata": {},
     "output_type": "execute_result"
    }
   ],
   "source": [
    "# Counter 사용법\n",
    "from collections import Counter\n",
    "colors = [\"red\", \"blue\", \"red\", \"green\", \"blue\", \"blue\"]\n",
    "cnt = Counter(colors)\n",
    "cnt"
   ]
  },
  {
   "cell_type": "code",
   "execution_count": 7,
   "metadata": {},
   "outputs": [
    {
     "data": {
      "text/plain": [
       "[(4, 3), (3, 2), (5, 2), (1, 1), (2, 1)]"
      ]
     },
     "execution_count": 7,
     "metadata": {},
     "output_type": "execute_result"
    }
   ],
   "source": [
    "# Counter 클래스의 most_common() 메소드 : 등장한 횟수를 내림차순으로 정리\n",
    "numbers = [1,2,3,3,4,4,4,5,5]\n",
    "from collections import Counter\n",
    "cnt = Counter(numbers)\n",
    "cnt.most_common()"
   ]
  },
  {
   "cell_type": "code",
   "execution_count": 8,
   "metadata": {},
   "outputs": [
    {
     "data": {
      "text/plain": [
       "[(4, 3), (3, 2), (5, 2)]"
      ]
     },
     "execution_count": 8,
     "metadata": {},
     "output_type": "execute_result"
    }
   ],
   "source": [
    "# 리스트를 구성하는 요소들은 튜플형식\n",
    "# 각 튜플의 첫 번째 요소는 numbers에 등장하는 숫자, 두 번째 요소는 각 숫자가 등장한 횟수\n",
    "# 만약 등장한 횟수가 같은 수들은 임의의 순서로 정렬되어 보여지게 된다. \n",
    "# 상위 3개의 결과만을 원한다면?\n",
    "cnt.most_common(3)"
   ]
  },
  {
   "cell_type": "code",
   "execution_count": 11,
   "metadata": {},
   "outputs": [
    {
     "name": "stdout",
     "output_type": "stream",
     "text": [
      "[(4, 3)]\n",
      "4\n"
     ]
    }
   ],
   "source": [
    "# 최빈값을 얻고자 한다면\n",
    "mode = cnt.most_common(1)\n",
    "print(mode)\n",
    "# 최빈값\n",
    "print(mode[0][0])"
   ]
  },
  {
   "cell_type": "code",
   "execution_count": 12,
   "metadata": {},
   "outputs": [],
   "source": [
    "# 최빈값을 찾아내는 함수 만들기\n",
    "from collections import Counter\n",
    "\n",
    "def modefinder(numbers):\n",
    "    c = Counter(numbers)\n",
    "    mode = c.most_common(1)\n",
    "    return mode[0][0]"
   ]
  },
  {
   "cell_type": "code",
   "execution_count": 14,
   "metadata": {},
   "outputs": [],
   "source": [
    "# 만약 최빈수가 2개 이상 존재한다면\n",
    "# 최빈값이 리스트의 형태로 modes에 저장되어 리턴된다.\n",
    "from collections import Counter\n",
    "\n",
    "def modefinder(numbers):\n",
    "    c = Counter(numbers)\n",
    "    order = c.most_common()\n",
    "    maximum = order[0][1]\n",
    "\n",
    "    modes = []\n",
    "    for num in order:\n",
    "        if num[1] == maximum:\n",
    "            modes.append(num[0])\n",
    "    return modes"
   ]
  },
  {
   "cell_type": "code",
   "execution_count": null,
   "metadata": {},
   "outputs": [],
   "source": []
  }
 ],
 "metadata": {
  "interpreter": {
   "hash": "b3ba2566441a7c06988d0923437866b63cedc61552a5af99d1f4fb67d367b25f"
  },
  "kernelspec": {
   "display_name": "Python 3.8.8 ('base')",
   "language": "python",
   "name": "python3"
  },
  "language_info": {
   "codemirror_mode": {
    "name": "ipython",
    "version": 3
   },
   "file_extension": ".py",
   "mimetype": "text/x-python",
   "name": "python",
   "nbconvert_exporter": "python",
   "pygments_lexer": "ipython3",
   "version": "3.8.8"
  },
  "orig_nbformat": 4
 },
 "nbformat": 4,
 "nbformat_minor": 2
}
