{
 "cells": [
  {
   "cell_type": "markdown",
   "metadata": {},
   "source": [
    "# 최댓값 찾기 알고리즘"
   ]
  },
  {
   "cell_type": "markdown",
   "metadata": {},
   "source": [
    "##### 출처: https://m.blog.naver.com/PostView.naver?isHttpsRedirect=true&blogId=so15284&logNo=221319545985"
   ]
  },
  {
   "cell_type": "markdown",
   "metadata": {},
   "source": [
    "11, 54, 85, 32, 44, 99, 54, 12 라는 값이 있을 때, 이 중 최고의 큰 값은 99\n",
    "\n",
    "저 값들을 어떻게 저장을 할까?"
   ]
  },
  {
   "cell_type": "markdown",
   "metadata": {},
   "source": [
    "- 방법 1. 값들의 변수를 만들기 : int(a) = 10, int(b) = 20, ..."
   ]
  },
  {
   "cell_type": "markdown",
   "metadata": {},
   "source": [
    "- 방법 2. List를 이용해서 각 데이터를 저장한다\n",
    "    - 장점 : 배열로 데이터를 저장하면, 코드도 깔끔해지고, 각 값들마다 index 값을 부여해줘서 비교할 때 훨씬 편리하다.\n",
    "    - 사용방법 : 배열의 첫 번째 값을 어떤 변수 저장소에 저장한다. 이후 반복문을 이용해서, 저 배열의 크기만큼 순환\n",
    "        - 순환하면서 크기를 비교해야 하니까, 조건문을 사용. \n",
    "        - max에 있는 값보다 각 배열의 Index의 값이 더 클 경우에 max의 값을 바꿔주어야\n",
    "        - 순환이 다 끝난 후 max의 변수의 값을 출력\n",
    "        - 배열 생성 > 반복문 순환 > 조건문 사용 (크기 비교) > 조건을 만족 시 변하는 값 > 순환 종료 > 변수 출력\n",
    "    - 파이썬은 자체에 max라는 함수를 지원하기 때문에 max라는 함수를 써도 되지만, \n",
    "        - 알고리즘을 하기 때문에, 반복문과 조건문도 같이 써서 구하는 것"
   ]
  },
  {
   "cell_type": "code",
   "execution_count": 2,
   "metadata": {},
   "outputs": [
    {
     "name": "stdout",
     "output_type": "stream",
     "text": [
      "최댓값:  96\n",
      "최댓값:  96\n"
     ]
    }
   ],
   "source": [
    "list = [30, 54, 11, 25, 96, 32, 17, 54, 20]\n",
    "\n",
    "def max_for_if():\n",
    "    length = len(list)\n",
    "    max_result = list[0]\n",
    "    for i in range(length):\n",
    "        if max_result < list[i]:\n",
    "            max_result = list[i]\n",
    "    return max_result\n",
    "\n",
    "def max_function():\n",
    "    return max(list)\n",
    "\n",
    "print(\"최댓값: \", max_function())\n",
    "print(\"최댓값: \", max_for_if())\n"
   ]
  },
  {
   "cell_type": "markdown",
   "metadata": {},
   "source": [
    "---"
   ]
  },
  {
   "cell_type": "markdown",
   "metadata": {},
   "source": [
    "##### 출처 : https://korbillgates.tistory.com/204"
   ]
  },
  {
   "cell_type": "markdown",
   "metadata": {},
   "source": [
    "- 아이디어 : 최대값을 담을 수 있는 변수에 배열의 가장 첫 번째 항목을 넣음\n",
    "    - for 문으로 항목을 돌아가며, 최대값 변수에 담긴 수보다 항목이 크면 최대값 변수에 새로운 항목을 집어 넣음"
   ]
  },
  {
   "cell_type": "code",
   "execution_count": 3,
   "metadata": {},
   "outputs": [
    {
     "name": "stdout",
     "output_type": "stream",
     "text": [
      "Max Number:  5\n"
     ]
    }
   ],
   "source": [
    "number_list = [2,3,5,1,4]\n",
    "\n",
    "max_num = number_list[0]\n",
    "\n",
    "for num in number_list:\n",
    "    if max_num < num:\n",
    "        max_num = num\n",
    "\n",
    "print(\"Max Number: \", max_num)"
   ]
  },
  {
   "cell_type": "markdown",
   "metadata": {},
   "source": [
    "- 알고리즘 평가\n",
    "    - 1. 첫 번째 항목부터 마지막 항목(n)까지 순차적으로 연산이 진행\n",
    "    - 2. 프로그램을 실행하게 되면 n회 만큼의 비교연산을 수행"
   ]
  },
  {
   "cell_type": "markdown",
   "metadata": {},
   "source": [
    "- 알고리즘 개선\n",
    "    - Max나 Min 같이 프로그램에서 자주 사용하는 기능을 프로그래밍 언어에서 이미 만들어 둔 내장함수가 있다.\n",
    "    - 파이썬에서는 max(), min() 함수\n",
    "    - 이를 이용하면, 간단하게 최댓값, 최솟값을 얻을 수 있다. "
   ]
  },
  {
   "cell_type": "code",
   "execution_count": 6,
   "metadata": {},
   "outputs": [
    {
     "name": "stdout",
     "output_type": "stream",
     "text": [
      "Max Number:  5\n"
     ]
    }
   ],
   "source": [
    "number_list = [2,3,1,4,5]\n",
    "\n",
    "max_num = max(number_list)\n",
    "\n",
    "print(\"Max Number: \", max_num)"
   ]
  },
  {
   "cell_type": "markdown",
   "metadata": {},
   "source": [
    "---"
   ]
  },
  {
   "cell_type": "markdown",
   "metadata": {},
   "source": [
    "##### 출처 : https://velog.io/@joo4438/python-%EC%B5%9C%EB%8C%93%EA%B0%92-%EC%B0%BE%EA%B8%B0-%EC%95%8C%EA%B3%A0%EB%A6%AC%EC%A6%98"
   ]
  },
  {
   "cell_type": "markdown",
   "metadata": {},
   "source": [
    "- 목적 : 주어진 숫자 n개 중 가장 큰 숫자를 찾는 알고리즘 만들기"
   ]
  },
  {
   "cell_type": "markdown",
   "metadata": {},
   "source": [
    "- 알고리즘의 내용 정리 \n",
    "    - 1. 17, 92, 18, 33, 58, 7, 33, 42 중 최댓값을 찾기\n",
    "    - 2. 첫 번째 숫자(17)를 최댓값으로 기억하기\n",
    "    - 3. 두 번째 숫자 92를 현재 최댓값(17)과 비교 후, 더 큰 값을 최댓값으로 저장한다(92)\n",
    "    - 4. 세 번째 숫자부터 2~3 과정을 반복하기\n",
    "    - 5. 마지막 비교에서 현재 최댓값(92)와 42 비교하기\n",
    "    - 6. 마지막으로 최댓값으로 기억 된 숫자 92가 주어진 숫자 중 최댓값이다."
   ]
  },
  {
   "cell_type": "code",
   "execution_count": 7,
   "metadata": {},
   "outputs": [
    {
     "name": "stdout",
     "output_type": "stream",
     "text": [
      "92\n"
     ]
    }
   ],
   "source": [
    "def find_max(a):\n",
    "    n = len(a)\n",
    "    max_v = a[0]    # 리스트의 첫번째 값을 최댓값으로 먼저 저장\n",
    "    for i in range(1, n):   # 1부터 n-1까지 반복\n",
    "        if a[i] > max_v:    # 지금 값이 현재 최댓값보다 크면\n",
    "            max_v = a[i]\n",
    "\n",
    "    return max_v\n",
    "\n",
    "# 리스트를 함수에 넣어보기\n",
    "v = [17, 92, 18, 33, 58, 7, 33, 42]\n",
    "print(find_max(v))"
   ]
  },
  {
   "cell_type": "code",
   "execution_count": null,
   "metadata": {},
   "outputs": [],
   "source": []
  }
 ],
 "metadata": {
  "interpreter": {
   "hash": "b3ba2566441a7c06988d0923437866b63cedc61552a5af99d1f4fb67d367b25f"
  },
  "kernelspec": {
   "display_name": "Python 3.8.8 ('base')",
   "language": "python",
   "name": "python3"
  },
  "language_info": {
   "codemirror_mode": {
    "name": "ipython",
    "version": 3
   },
   "file_extension": ".py",
   "mimetype": "text/x-python",
   "name": "python",
   "nbconvert_exporter": "python",
   "pygments_lexer": "ipython3",
   "version": "3.8.8"
  },
  "orig_nbformat": 4
 },
 "nbformat": 4,
 "nbformat_minor": 2
}
