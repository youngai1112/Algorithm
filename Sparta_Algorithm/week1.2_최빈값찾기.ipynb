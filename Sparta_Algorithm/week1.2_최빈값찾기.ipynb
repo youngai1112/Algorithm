{
  "nbformat": 4,
  "nbformat_minor": 0,
  "metadata": {
    "colab": {
      "name": "week1.2_최빈값 찾기",
      "provenance": [],
      "collapsed_sections": []
    },
    "kernelspec": {
      "name": "python3",
      "display_name": "Python 3"
    },
    "language_info": {
      "name": "python"
    }
  },
  "cells": [
    {
      "cell_type": "code",
      "execution_count": 1,
      "metadata": {
        "colab": {
          "base_uri": "https://localhost:8080/"
        },
        "id": "18cJAgCOQ6DL",
        "outputId": "9871931e-1577-41c8-a6c0-da150705a2c3"
      },
      "outputs": [
        {
          "output_type": "stream",
          "name": "stdout",
          "text": [
            "True\n",
            "False\n",
            "True\n"
          ]
        }
      ],
      "source": [
        "# 문자인지 확인하는 방법: str.isalpha() - 해당 문자열이 알파벳인지 확인\n",
        "print(\"a\".isalpha())\n",
        "print('1'.isalpha())\n",
        "\n",
        "s = \"abcdefg\"\n",
        "print(s[0].isalpha())"
      ]
    },
    {
      "cell_type": "code",
      "source": [
        "# 알파벳 별로 빈도수를 리스트에 저장하기: \"python char to ascii code\""
      ],
      "metadata": {
        "id": "GeSsz898Rq1m"
      },
      "execution_count": 2,
      "outputs": []
    },
    {
      "cell_type": "code",
      "source": [
        "# 최빈값 찾기\n",
        "# 내가 푼 것: isalpha()로 알파벳 추출 > 리스트 저장 > 리스트에서 갯수 판별\n",
        "input = \"hello my name is sparta\"\n",
        "\n",
        "\n",
        "def find_max_occurred_alphabet(string):\n",
        "    lst = []\n",
        "    for i in input:\n",
        "        if i.isalpha() == True:\n",
        "            lst.append(i)\n",
        "        print(lst)\n",
        "        \n",
        "result = find_max_occurred_alphabet(input)\n",
        "print(result)"
      ],
      "metadata": {
        "colab": {
          "base_uri": "https://localhost:8080/"
        },
        "id": "fztmkA3_Snxs",
        "outputId": "df1f0495-b01c-49ea-edac-b6840574d54b"
      },
      "execution_count": 3,
      "outputs": [
        {
          "output_type": "stream",
          "name": "stdout",
          "text": [
            "['h']\n",
            "['h', 'e']\n",
            "['h', 'e', 'l']\n",
            "['h', 'e', 'l', 'l']\n",
            "['h', 'e', 'l', 'l', 'o']\n",
            "['h', 'e', 'l', 'l', 'o']\n",
            "['h', 'e', 'l', 'l', 'o', 'm']\n",
            "['h', 'e', 'l', 'l', 'o', 'm', 'y']\n",
            "['h', 'e', 'l', 'l', 'o', 'm', 'y']\n",
            "['h', 'e', 'l', 'l', 'o', 'm', 'y', 'n']\n",
            "['h', 'e', 'l', 'l', 'o', 'm', 'y', 'n', 'a']\n",
            "['h', 'e', 'l', 'l', 'o', 'm', 'y', 'n', 'a', 'm']\n",
            "['h', 'e', 'l', 'l', 'o', 'm', 'y', 'n', 'a', 'm', 'e']\n",
            "['h', 'e', 'l', 'l', 'o', 'm', 'y', 'n', 'a', 'm', 'e']\n",
            "['h', 'e', 'l', 'l', 'o', 'm', 'y', 'n', 'a', 'm', 'e', 'i']\n",
            "['h', 'e', 'l', 'l', 'o', 'm', 'y', 'n', 'a', 'm', 'e', 'i', 's']\n",
            "['h', 'e', 'l', 'l', 'o', 'm', 'y', 'n', 'a', 'm', 'e', 'i', 's']\n",
            "['h', 'e', 'l', 'l', 'o', 'm', 'y', 'n', 'a', 'm', 'e', 'i', 's', 's']\n",
            "['h', 'e', 'l', 'l', 'o', 'm', 'y', 'n', 'a', 'm', 'e', 'i', 's', 's', 'p']\n",
            "['h', 'e', 'l', 'l', 'o', 'm', 'y', 'n', 'a', 'm', 'e', 'i', 's', 's', 'p', 'a']\n",
            "['h', 'e', 'l', 'l', 'o', 'm', 'y', 'n', 'a', 'm', 'e', 'i', 's', 's', 'p', 'a', 'r']\n",
            "['h', 'e', 'l', 'l', 'o', 'm', 'y', 'n', 'a', 'm', 'e', 'i', 's', 's', 'p', 'a', 'r', 't']\n",
            "['h', 'e', 'l', 'l', 'o', 'm', 'y', 'n', 'a', 'm', 'e', 'i', 's', 's', 'p', 'a', 'r', 't', 'a']\n",
            "None\n"
          ]
        }
      ]
    },
    {
      "cell_type": "code",
      "source": [
        "# 최빈값 찾기 : 문제풀이 1\n",
        "# 알파벳들을 하나씩 비교하면서 몇 번 나왔는지 검사하는 코드\n",
        "input = \"hello my name is sparta\"\n",
        "\n",
        "\n",
        "def find_max_occurred_alphabet(string):\n",
        "    # alphabet_array에서 알파벳을 하나씩 꺼내면서 input과 비교할 것\n",
        "    alphabet_array = [\"a\", \"b\", \"c\", \"d\", \"e\", \"f\", \"g\",\n",
        "                      \"h\", \"i\", \"j\", \"k\", \"l\", \"m\", \"o\",\n",
        "                      \"p\", \"q\", \"r\", \"s\", \"t\", \"u\", \"v\",\n",
        "                      \"w\", \"x\", \"y\", \"z\"]\n",
        "    # 최고로 많이 나온 횟수를 저장하기 위한 변수와 최고로 많이 나온 알파벳을 저장하는 변수가 필요\n",
        "    max_occurrence = 0\n",
        "    max_alphabet = alphabet_array[0]\n",
        "\n",
        "    for alphabet in alphabet_array:\n",
        "        occurrence = 0\n",
        "        # for문을 돌면서 문자열에 있는 문자와 동일하다면 occurence를 하나씩 추가\n",
        "        for char in string:     \n",
        "            if char == alphabet:\n",
        "                occurrence += 1\n",
        "\n",
        "        if occurrence > max_occurrence:\n",
        "            max_occurrence = occurrence\n",
        "            max_alphabet = alphabet\n",
        "\n",
        "    return max_alphabet\n",
        "\n",
        "\n",
        "\n",
        "result = find_max_occurred_alphabet(input)\n",
        "print(result)"
      ],
      "metadata": {
        "colab": {
          "base_uri": "https://localhost:8080/"
        },
        "id": "v1vu5S4QVG4Z",
        "outputId": "d8b254d7-a601-4f30-cc24-3f5eccde98c8"
      },
      "execution_count": 6,
      "outputs": [
        {
          "output_type": "stream",
          "name": "stdout",
          "text": [
            "a\n"
          ]
        }
      ]
    },
    {
      "cell_type": "code",
      "source": [
        "# 최빈값 찾기 : 문제풀이 2\n",
        "def find_max_occurred_alphabet(string):\n",
        "    alphabet_occurrence_array = [0] * 26\n",
        "\n",
        "    for char in string:\n",
        "        if not char.isalpha():\n",
        "            continue\n",
        "        arr_index = ord(char) - ord('a')\n",
        "        alphabet_occurrence_array[arr_index] += 1\n",
        "\n",
        "    max_occurrence = 0\n",
        "    max_alphabet_index = 0\n",
        "    for index in range(len(alphabet_occurrence_array)):\n",
        "        alphabet_occurrence = alphabet_occurrence_array[index]\n",
        "        if alphabet_occurrence > max_occurrence:\n",
        "            max_occurrence = alphabet_occurrence\n",
        "            max_alphabet_index = index\n",
        "\n",
        "    return chr(max_alphabet_index + ord('a'))\n",
        "\n",
        "print(\"정답 = a 현재 풀이 값 =\", result(\"Hello my name is sparta\"))\n",
        "print(\"정답 = a 현재 풀이 값 =\", result(\"Sparta coding club\"))\n",
        "print(\"정답 = s 현재 풀이 값 =\", result(\"best of best sparta\"))"
      ],
      "metadata": {
        "colab": {
          "base_uri": "https://localhost:8080/"
        },
        "id": "0esjbsmXXmNd",
        "outputId": "ae9412e5-ceab-482b-9534-6deda1a4451a"
      },
      "execution_count": 14,
      "outputs": [
        {
          "output_type": "stream",
          "name": "stdout",
          "text": [
            "정답 = a 현재 풀이 값 = a\n",
            "정답 = a 현재 풀이 값 = a\n",
            "정답 = s 현재 풀이 값 = s\n"
          ]
        }
      ]
    },
    {
      "cell_type": "code",
      "source": [
        "# 알파벳 별 빈도수를 배열에 저장하는 방법\n",
        "def find_alphabet_occurrence_array(string):\n",
        "    alphabet_occurrence_array = [0] * 26\n",
        "\n",
        "    for char in string:\n",
        "        if not char.isalpha():\n",
        "            continue        # for문에서 다음 인덱스로 넘어가기 위한 방법\n",
        "        arr_index = ord(char) - ord(\"a\")\n",
        "        alphabet_occurrence_array[arr_index] += 1\n",
        "\n",
        "    return alphabet_occurrence_array\n",
        "\n",
        "\n",
        "print(find_alphabet_occurrence_array(\"hello my name is sparta\"))"
      ],
      "metadata": {
        "colab": {
          "base_uri": "https://localhost:8080/"
        },
        "id": "Lf08zWzkSx4w",
        "outputId": "e9cd2254-6328-4a9f-9633-e32cfeccd910"
      },
      "execution_count": 4,
      "outputs": [
        {
          "output_type": "stream",
          "name": "stdout",
          "text": [
            "[3, 0, 0, 0, 2, 0, 0, 1, 1, 0, 0, 2, 2, 1, 1, 1, 0, 1, 2, 1, 0, 0, 0, 0, 1, 0]\n"
          ]
        }
      ]
    }
  ]
}