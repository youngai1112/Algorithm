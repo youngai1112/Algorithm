{
 "cells": [
  {
   "cell_type": "markdown",
   "metadata": {},
   "source": [
    "## 시간복잡도\n",
    "- 입력값과 문제를 해결하는 데 걸리는 시간과의 상관관계\n",
    "- 입력값이 2배로 늘어났을 때 문제를 해결하는 데 걸리는 시간은 몇 배로 늘어나는지를 보는 것"
   ]
  },
  {
   "cell_type": "markdown",
   "metadata": {},
   "source": [
    "## 최댓값 찾기 알고리즘의 시간 복잡도 판단해보기_1\n",
    "- 해결방법1의 함수가 시간 복잡도를 얼마나 가지는지, 즉 시간이 얼마나 소요되는지 어떻게 분석할 수 있을까\n",
    "    - **각 줄이 실행되는 걸 1번의 연산이 된다**고 생각하면 된다."
   ]
  },
  {
   "cell_type": "code",
   "execution_count": null,
   "metadata": {},
   "outputs": [],
   "source": [
    "# 해결방법1: 각 숫자마다 모두 다른 숫자와 비교해서 최댓값인지 확인하고\n",
    "#   만약 다른 모든 값보다 크다면, 반복문을 중단하고 바로 반환하는 코드\n",
    "input = [3, 5, 6, 1, 2, 4]\n",
    "\n",
    "def find_max_num(array):\n",
    "    # for문이 나오면 반복이니까 for구문의 context만큼 시간이 소요된다?\n",
    "    for num in array:               # array의 길이만큼 아래 연산이 실행\n",
    "        for compare_num in array:   # array의 길이만큼 아래 연산이 실행\n",
    "             # if문도 시간을 소요하는 연산이다.\n",
    "             # if문에 num과 compare_num을 비교해서 break문을 하는 연산이 들어와있다.\n",
    "             if num < compare_num:  # 비교 연산 1번 실행\n",
    "                 break\n",
    "        else: \n",
    "            return num\n",
    "    return 1\n",
    "\n",
    "result = find_max_num(input)\n",
    "print(result)"
   ]
  },
  {
   "cell_type": "markdown",
   "metadata": {},
   "source": [
    "- 해결방법1\n",
    "1. 연산된 것들을 더해보면, `array의 길이 * array의 길이 * 비교연산 1번`만큼의 시간이 필요하다.\n",
    "    - 여기서, array(입력값)의 길이는 보통 N이라고 표현한다. \n",
    "    - N * N = N^2 만큼의 시간이 걸린 것이라고 표현할 수 있다.\n",
    "    - 입력값이란?\n",
    "        - **보통 함수에서 전달되는 인자의 크기가 변할 수 있다. 혹은 길이가 변할 수 있다**면 입력값이라 표현한다.\n",
    "        - 해결방법1의 함수에서 array 같은 경우는 길이가 늘어날 수 있기 때문에\n",
    "            - array: **입력값**, 입력값의 길이: **N**\n",
    "    - N이 6이니까, 36 아닌지?\n",
    "        - 시간 복잡도를 사용한 이유는 시간과의 상관관계를 이해하고 싶기 때문\n",
    "        - 6 * 6 시간이 걸린 것을 알고 싶은 것이지, 36을 알고싶은 게 아니다!\n",
    "        - 이를 수식으로 표현해야지 올바른 알고리즘의 시간 복잡도를 분석할 수 있다."
   ]
  },
  {
   "cell_type": "markdown",
   "metadata": {},
   "source": [
    "## 최댓값 찾기 알고리즘의 시간 복잡도 판단해보기_2"
   ]
  },
  {
   "cell_type": "code",
   "execution_count": 1,
   "metadata": {},
   "outputs": [
    {
     "name": "stdout",
     "output_type": "stream",
     "text": [
      "6\n"
     ]
    }
   ],
   "source": [
    "# 해결방법2: 리스트를 한 번씩 돌면서 num과 max_num을 비교해서\n",
    "#   최후의 max_num, 제일 큰 max_num을 반환하는 함수\n",
    "\n",
    "input = [3, 5, 6, 1, 2, 4]\n",
    "\n",
    "def find_max_num(array):\n",
    "    max_num = array[0]      # 연산 1번 실행 == 대입연산이 1번 실행되었다.\n",
    "    for num in array:       # array의 길이만큼 아래 연산이 실행\n",
    "        if num > max_num:   # 비교 연산 1번 실행\n",
    "            max_num = num   # 대입 연산 1번 실행\n",
    "    return max_num\n",
    "\n",
    "\n",
    "result = find_max_num(input)\n",
    "print(result)"
   ]
  },
  {
   "cell_type": "markdown",
   "metadata": {},
   "source": [
    "- 해결방법2\n",
    "1. 연산된 것들을 더해보면, \n",
    "    - max_num 대입 연산 1번\n",
    "    - array의 길이 * (비교 연산 1번 + 대입 연산 1번)\n",
    "2. array를 N이라고 하면, \n",
    "    - 1 + 2 * N\n",
    "    - 2N 만큼의 시간이 걸림을 알 수 있다."
   ]
  },
  {
   "cell_type": "markdown",
   "metadata": {},
   "source": [
    "## 해결방법1 VS. 해결방법2\n",
    "    - 코드만 보고 어느 것이 더 좋다고 표현하는 것 X\n",
    "    - 수치화를 시키면 얼마나 효율적인지 정량적으로 분석할 수 있다.\n",
    "    - `해결방법1 : N^2` VS. `해결방법2: 2N+1`\n",
    "        - N의 길이가 길어질수록, 연산량이 변화한다.\n",
    "\n",
    "## 두 가지 포인트\n",
    "    - N과 N^2은 N이 커질수록 더 큰 차이가 난다.\n",
    "    - N의 지수를 먼저 비교\n",
    "\n",
    "## 아이디어\n",
    "    - 매번 코드를 매 실행 단위로 몇 번의 연산이 발생하는지 확인하는 것은 불가능\n",
    "    - 그러므로, 상수는 신경쓰지 말고, 입력값에 비례해서 어느 정도로 증가하는지만 파악하면 된다.\n",
    "    - `2N+1` => N만큼의 연산량이 필요하다\n",
    "    - `N^2` => N^2만큼의 연산량이 필요하다\n",
    "    - 만약, 상수의 연산량이 필요하다면 1만큼의 연산량이 필요하다고 표현하면 된다.\n"
   ]
  }
 ],
 "metadata": {
  "interpreter": {
   "hash": "b3ba2566441a7c06988d0923437866b63cedc61552a5af99d1f4fb67d367b25f"
  },
  "kernelspec": {
   "display_name": "Python 3.8.8 ('base')",
   "language": "python",
   "name": "python3"
  },
  "language_info": {
   "codemirror_mode": {
    "name": "ipython",
    "version": 3
   },
   "file_extension": ".py",
   "mimetype": "text/x-python",
   "name": "python",
   "nbconvert_exporter": "python",
   "pygments_lexer": "ipython3",
   "version": "3.8.8"
  },
  "orig_nbformat": 4
 },
 "nbformat": 4,
 "nbformat_minor": 2
}
