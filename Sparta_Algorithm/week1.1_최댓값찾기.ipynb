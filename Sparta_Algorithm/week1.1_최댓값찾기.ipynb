{
  "nbformat": 4,
  "nbformat_minor": 0,
  "metadata": {
    "colab": {
      "name": "week1_최댓값찾기",
      "provenance": [],
      "collapsed_sections": []
    },
    "kernelspec": {
      "name": "python3",
      "display_name": "Python 3"
    },
    "language_info": {
      "name": "python"
    }
  },
  "cells": [
    {
      "cell_type": "code",
      "execution_count": 1,
      "metadata": {
        "colab": {
          "base_uri": "https://localhost:8080/"
        },
        "id": "Pph4Fsn0FvR3",
        "outputId": "6965e677-1302-4a99-d667-5507627814b7"
      },
      "outputs": [
        {
          "output_type": "stream",
          "name": "stdout",
          "text": [
            "Hello\n"
          ]
        }
      ],
      "source": [
        "print(\"Hello\")"
      ]
    },
    {
      "cell_type": "markdown",
      "source": [
        "# 최댓값 찾기"
      ],
      "metadata": {
        "id": "JVwJmi06GEIq"
      }
    },
    {
      "cell_type": "code",
      "source": [
        "input = [3, 5, 6, 1, 2, 4]\n",
        "\n",
        "\n",
        "def find_max_num(array):\n",
        "    #####\n",
        "    return 1\n",
        "\n",
        "\n",
        "result = find_max_num(input)\n",
        "print(result)"
      ],
      "metadata": {
        "colab": {
          "base_uri": "https://localhost:8080/"
        },
        "id": "eBACJ3UpGdti",
        "outputId": "420eed34-04ad-4a1f-8ae2-90c09855714c"
      },
      "execution_count": 7,
      "outputs": [
        {
          "output_type": "stream",
          "name": "stdout",
          "text": [
            "None\n"
          ]
        }
      ]
    },
    {
      "cell_type": "code",
      "source": [
        "# 해결방법1: find_max_num을 다른 숫자와 비교하는 방식\n",
        "input = [3, 5, 6, 1, 2, 4]\n",
        "\n",
        "def find_max_num(array):\n",
        "    for num in array:\n",
        "        for compare_num in array:\n",
        "             if num < compare_num:\n",
        "                 break\n",
        "        # for else문 : for문이 다 끝날때까지 break문이 한번도 나오지 않았다면 실행됨\n",
        "        else: \n",
        "            return num\n",
        "    return 1\n",
        "\n",
        "result = find_max_num(input)\n",
        "print(result)"
      ],
      "metadata": {
        "colab": {
          "base_uri": "https://localhost:8080/"
        },
        "id": "Ds2PZBIlGnPC",
        "outputId": "dd456954-62d9-4da7-eb98-0b25ffc966d4"
      },
      "execution_count": 10,
      "outputs": [
        {
          "output_type": "stream",
          "name": "stdout",
          "text": [
            "6\n"
          ]
        }
      ]
    },
    {
      "cell_type": "code",
      "source": [
        "# 해결방법2: 지정변수\n",
        "input = [3, 5, 6, 1, 2, 4]\n",
        "\n",
        "def find_max_num(array):\n",
        "    # 0번째 원소를 넣은 이유: 배열에 임의의 숫자를 비교하면서 진행할 것이기 때문에 초기값을 설정\n",
        "    max_num = array[0]\n",
        "    for num in array:\n",
        "        if num > max_num:\n",
        "            max_num = num\n",
        "    return max_num\n",
        "\n",
        "\n",
        "result = find_max_num(input)\n",
        "print(result)"
      ],
      "metadata": {
        "colab": {
          "base_uri": "https://localhost:8080/"
        },
        "id": "1YashCBtI5Rd",
        "outputId": "fac0d883-2d2c-4e23-8809-94fd4a6592c9"
      },
      "execution_count": 12,
      "outputs": [
        {
          "output_type": "stream",
          "name": "stdout",
          "text": [
            "6\n"
          ]
        }
      ]
    },
    {
      "cell_type": "code",
      "source": [
        ""
      ],
      "metadata": {
        "id": "UY4hFX-QKCB_"
      },
      "execution_count": null,
      "outputs": []
    }
  ]
}